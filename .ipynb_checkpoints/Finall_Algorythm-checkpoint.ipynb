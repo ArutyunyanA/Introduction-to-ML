{
 "cells": [
  {
   "cell_type": "code",
   "execution_count": 5,
   "id": "a48a68ac-cc36-449e-8dd9-cbaff57f54c2",
   "metadata": {},
   "outputs": [
    {
     "name": "stdout",
     "output_type": "stream",
     "text": [
      "Test score set:\n",
      "0.97\n",
      "Test score set:\n",
      "0.97\n"
     ]
    }
   ],
   "source": [
    "import numpy as np\n",
    "from sklearn.datasets import load_iris\n",
    "from sklearn.model_selection import train_test_split\n",
    "from sklearn.neighbors import KNeighborsClassifier\n",
    "\n",
    "iris_data = load_iris()\n",
    "knn = KNeighborsClassifier(n_neighbors=1)\n",
    "\n",
    "X_train, X_test, y_train, y_test = train_test_split(\n",
    "    iris_data.data, iris_data.target, random_state=0\n",
    ")\n",
    "\n",
    "# First method \n",
    "knn.fit(X_train, y_train)\n",
    "print(f\"Test score set:\\n{knn.score(X_test, y_test):.2f}\")\n",
    "# Second method\n",
    "y_predict = knn.predict(X_test)\n",
    "print(f\"Test score set:\\n{np.mean(y_predict == y_test):.2f}\")\n"
   ]
  },
  {
   "cell_type": "code",
   "execution_count": null,
   "id": "e8d51309-b648-44f8-8391-f7a74d6837a6",
   "metadata": {},
   "outputs": [],
   "source": []
  }
 ],
 "metadata": {
  "kernelspec": {
   "display_name": "Python 3 (ipykernel)",
   "language": "python",
   "name": "python3"
  },
  "language_info": {
   "codemirror_mode": {
    "name": "ipython",
    "version": 3
   },
   "file_extension": ".py",
   "mimetype": "text/x-python",
   "name": "python",
   "nbconvert_exporter": "python",
   "pygments_lexer": "ipython3",
   "version": "3.10.0"
  }
 },
 "nbformat": 4,
 "nbformat_minor": 5
}
